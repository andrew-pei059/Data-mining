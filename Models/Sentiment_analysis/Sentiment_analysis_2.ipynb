{
 "cells": [
  {
   "attachments": {},
   "cell_type": "markdown",
   "id": "7b4c6b8c",
   "metadata": {},
   "source": [
    "<font size=6> Sentiment analysis </font>\n",
    "\n",
    "<font size=3>\n",
    " 利用<font color=yellow> CNN、LSTM </font>\n",
    " 兩種深度學習網路萃取評論特徵向量，預測喜好餐廳與否 (0, 1)\n",
    "</font> <br/>\n",
    "<font> 評分 1 ~ 5，將 4 分以上視為正評(1)，其餘視為 0 </font>"
   ]
  },
  {
   "cell_type": "code",
   "execution_count": null,
   "id": "241b9f86",
   "metadata": {},
   "outputs": [],
   "source": [
    "from keras.models import Sequential \n",
    "from keras.layers import Dense,Dropout,Flatten,Conv2D,MaxPooling2D\n",
    "from keras.layers import Conv1D, GlobalMaxPooling1D\n",
    "from keras.layers import ZeroPadding2D,Activation\n",
    "from keras.layers.embeddings import Embedding\n",
    "from keras.preprocessing import sequence\n",
    "from keras.preprocessing.text import Tokenizer\n",
    "from keras.layers.recurrent import LSTM"
   ]
  },
  {
   "cell_type": "code",
   "execution_count": 58,
   "id": "4aeb02a1",
   "metadata": {},
   "outputs": [],
   "source": [
    "# 畫圖用\n",
    "import matplotlib.pyplot as plt\n",
    "def show_train_history(train, val):\n",
    "    plt.figure()\n",
    "    plt.plot(train_history.history[train])\n",
    "    plt.plot(train_history.history[val])\n",
    "    plt.title(\"Train History\")\n",
    "    plt.xlabel(\"Epoch\")\n",
    "    plt.ylabel(train)\n",
    "    plt.legend([\"train\", \"validation\"], loc=\"upper left\")\n",
    "    plt.show()\n"
   ]
  },
  {
   "attachments": {},
   "cell_type": "markdown",
   "id": "545eaff7",
   "metadata": {},
   "source": [
    "<font size=5> Preprocess </font>"
   ]
  },
  {
   "cell_type": "code",
   "execution_count": 67,
   "id": "2ce9bda5",
   "metadata": {},
   "outputs": [],
   "source": [
    "import pandas as pd\n",
    "import numpy as np\n",
    "from sklearn.model_selection import train_test_split\n",
    "\n",
    "my_col = ['stars', 'text']\n",
    "data = pd.read_csv('yelp.csv', usecols=my_col)\n",
    "data_X = data['text']\n",
    "stop_words2 = ['\\n','0','1','2','3','4','5','6','7','8','9']\n",
    "stop_words3 = [',', '.', '!', '?', ':', '-', '(', ')']\n",
    "for st2 in stop_words2:\n",
    "    data_X = data_X.apply( lambda x: x.replace(st2, '') )\n",
    "for st3 in stop_words3:\n",
    "    data_X = data_X.apply( lambda x: x.replace(st3, ' ') )\n",
    "data_X = data_X.apply( lambda x: x.lower() )\n",
    "data_X = data_X.apply(lambda x: x.split(' '))\n",
    "data_X = data_X.tolist()\n",
    "data_Y = np.where(data['stars']>=4, 1, 0 )"
   ]
  },
  {
   "cell_type": "code",
   "execution_count": 85,
   "id": "a131c159",
   "metadata": {},
   "outputs": [],
   "source": [
    "# 引入 stop words 字典\n",
    "from sklearn.feature_extraction.text import CountVectorizer\n",
    "from collections import Counter\n",
    "vectorizer = CountVectorizer(stop_words='english', max_df=0.8)\n",
    "# 清除 stop words\n",
    "stop_words = vectorizer.get_stop_words()\n",
    "data['text'] = data['text'].apply(lambda x: ' '.join( [word for word in x.split(' ') if word not in stop_words] ))\n",
    "    \n",
    "# 分割訓練、測試資料\n",
    "train_X, test_X, train_Y, test_Y = train_test_split(data_X, data_Y, random_state=33, train_size=0.8)\n",
    "\n",
    "# 將文字編號，並將每篇評論設定為 380 個字\n",
    "token = Tokenizer(num_words=3800)\n",
    "token.fit_on_texts(train_X)\n",
    "train_X_seq = token.texts_to_sequences(train_X)\n",
    "test_X_seq = token.texts_to_sequences(test_X)\n",
    "train_X_cnn = sequence.pad_sequences(train_X_seq, maxlen=380)\n",
    "test_X_cnn = sequence.pad_sequences(test_X_seq, maxlen=380)"
   ]
  },
  {
   "attachments": {},
   "cell_type": "markdown",
   "id": "13931d86",
   "metadata": {},
   "source": [
    "<font size=5> CNN </font>"
   ]
  },
  {
   "cell_type": "code",
   "execution_count": 86,
   "id": "739b099b",
   "metadata": {},
   "outputs": [
    {
     "name": "stdout",
     "output_type": "stream",
     "text": [
      "Model: \"sequential_16\"\n",
      "_________________________________________________________________\n",
      " Layer (type)                Output Shape              Param #   \n",
      "=================================================================\n",
      " embedding_16 (Embedding)    (None, 380, 32)           121600    \n",
      "                                                                 \n",
      " conv1d_14 (Conv1D)          (None, 379, 64)           4160      \n",
      "                                                                 \n",
      " dropout_32 (Dropout)        (None, 379, 64)           0         \n",
      "                                                                 \n",
      " global_max_pooling1d_14 (Gl  (None, 64)               0         \n",
      " obalMaxPooling1D)                                               \n",
      "                                                                 \n",
      " dense_32 (Dense)            (None, 1024)              66560     \n",
      "                                                                 \n",
      " dropout_33 (Dropout)        (None, 1024)              0         \n",
      "                                                                 \n",
      " dense_33 (Dense)            (None, 1)                 1025      \n",
      "                                                                 \n",
      "=================================================================\n",
      "Total params: 193,345\n",
      "Trainable params: 193,345\n",
      "Non-trainable params: 0\n",
      "_________________________________________________________________\n",
      "None\n"
     ]
    }
   ],
   "source": [
    "# construct cnn model\n",
    "model = Sequential()\n",
    "model.add( Embedding(output_dim=32, input_dim=3800, input_length=380) )\n",
    "# output_dim : 輸出的維度是32，希望將數字list轉換為32維度的向量\n",
    "# input_dim : 輸入的維度是3800，也就是我們之前建立的字典是3800字\n",
    "# input_length : 每則評論有380個字\n",
    "model.add( Conv1D(filters=64, kernel_size=2, padding='valid', activation='relu') )\n",
    "model.add( Dropout(0.3) )\n",
    "model.add( GlobalMaxPooling1D() )\n",
    "model.add( Dense(units=1024, activation='relu') )\n",
    "model.add( Dropout(0.3) )\n",
    "model.add( Dense(units=1, activation='relu') )\n",
    "print(model.summary())"
   ]
  },
  {
   "cell_type": "code",
   "execution_count": 87,
   "id": "c7e83ba9",
   "metadata": {},
   "outputs": [
    {
     "name": "stdout",
     "output_type": "stream",
     "text": [
      "Epoch 1/10\n",
      "47/47 - 4s - loss: 0.9114 - accuracy: 0.6222 - val_loss: 0.6614 - val_accuracy: 0.6420 - 4s/epoch - 93ms/step\n",
      "Epoch 2/10\n",
      "47/47 - 4s - loss: 0.5771 - accuracy: 0.6947 - val_loss: 0.5955 - val_accuracy: 0.7040 - 4s/epoch - 86ms/step\n",
      "Epoch 3/10\n",
      "47/47 - 4s - loss: 0.5485 - accuracy: 0.7332 - val_loss: 0.6323 - val_accuracy: 0.6610 - 4s/epoch - 82ms/step\n",
      "Epoch 4/10\n",
      "47/47 - 4s - loss: 0.5223 - accuracy: 0.7590 - val_loss: 0.5621 - val_accuracy: 0.7300 - 4s/epoch - 81ms/step\n",
      "Epoch 5/10\n",
      "47/47 - 4s - loss: 0.4412 - accuracy: 0.8048 - val_loss: 0.5417 - val_accuracy: 0.7600 - 4s/epoch - 81ms/step\n",
      "Epoch 6/10\n",
      "47/47 - 4s - loss: 0.3630 - accuracy: 0.8555 - val_loss: 0.5590 - val_accuracy: 0.7805 - 4s/epoch - 82ms/step\n",
      "Epoch 7/10\n",
      "47/47 - 4s - loss: 0.2761 - accuracy: 0.9032 - val_loss: 0.6828 - val_accuracy: 0.7800 - 4s/epoch - 83ms/step\n",
      "Epoch 8/10\n",
      "47/47 - 4s - loss: 0.2576 - accuracy: 0.9115 - val_loss: 0.6801 - val_accuracy: 0.7400 - 4s/epoch - 83ms/step\n",
      "Epoch 9/10\n",
      "47/47 - 4s - loss: 0.2013 - accuracy: 0.9395 - val_loss: 0.9498 - val_accuracy: 0.7715 - 4s/epoch - 82ms/step\n",
      "Epoch 10/10\n",
      "47/47 - 4s - loss: 0.1417 - accuracy: 0.9590 - val_loss: 1.0370 - val_accuracy: 0.7820 - 4s/epoch - 82ms/step\n"
     ]
    }
   ],
   "source": [
    "# 訓練方式\n",
    "model.compile(loss='binary_crossentropy', optimizer='adam', metrics=['accuracy'])\n",
    "# fit the model\n",
    "train_history = model.fit(train_X_cnn, train_Y, batch_size=128, epochs=10, verbose=2, validation_split=0.25 )"
   ]
  },
  {
   "cell_type": "code",
   "execution_count": 88,
   "id": "0432beec",
   "metadata": {},
   "outputs": [
    {
     "name": "stdout",
     "output_type": "stream",
     "text": [
      "63/63 [==============================] - 0s 6ms/step - loss: 0.9554 - accuracy: 0.8000\n",
      "accuracy [0.9554147124290466, 0.800000011920929]\n"
     ]
    }
   ],
   "source": [
    "# CNN result\n",
    "scores = model.evaluate(test_X_cnn, test_Y)\n",
    "print('accuracy', scores)"
   ]
  },
  {
   "cell_type": "code",
   "execution_count": 89,
   "id": "c63039e4",
   "metadata": {},
   "outputs": [
    {
     "data": {
      "image/png": "[encoded data removed]",
      "text/plain": [
       "<Figure size 432x288 with 1 Axes>"
      ]
     },
     "metadata": {
      "needs_background": "light"
     },
     "output_type": "display_data"
    },
    {
     "data": {
      "image/png": "[encoded data removed]",
      "text/plain": [
       "<Figure size 432x288 with 1 Axes>"
      ]
     },
     "metadata": {
      "needs_background": "light"
     },
     "output_type": "display_data"
    }
   ],
   "source": [
    "# 畫圖\n",
    "show_train_history('accuracy', 'val_accuracy')\n",
    "show_train_history('loss', 'val_loss')"
   ]
  },
  {
   "attachments": {},
   "cell_type": "markdown",
   "id": "84651232",
   "metadata": {},
   "source": [
    "<font size=5> LSTM </font>"
   ]
  },
  {
   "cell_type": "code",
   "execution_count": 38,
   "id": "44dea2ea",
   "metadata": {},
   "outputs": [
    {
     "name": "stdout",
     "output_type": "stream",
     "text": [
      "Model: \"sequential_8\"\n",
      "_________________________________________________________________\n",
      " Layer (type)                Output Shape              Param #   \n",
      "=================================================================\n",
      " embedding_8 (Embedding)     (None, 380, 32)           121600    \n",
      "                                                                 \n",
      " dropout_16 (Dropout)        (None, 380, 32)           0         \n",
      "                                                                 \n",
      " lstm_1 (LSTM)               (None, 32)                8320      \n",
      "                                                                 \n",
      " dense_16 (Dense)            (None, 1024)              33792     \n",
      "                                                                 \n",
      " dropout_17 (Dropout)        (None, 1024)              0         \n",
      "                                                                 \n",
      " dense_17 (Dense)            (None, 1)                 1025      \n",
      "                                                                 \n",
      "=================================================================\n",
      "Total params: 164,737\n",
      "Trainable params: 164,737\n",
      "Non-trainable params: 0\n",
      "_________________________________________________________________\n",
      "None\n"
     ]
    }
   ],
   "source": [
    "# construct LSTM\n",
    "model = Sequential()\n",
    "model.add( Embedding(output_dim=32, input_dim=3800, input_length=380) )\n",
    "model.add( Dropout(0.6) )\n",
    "model.add( LSTM(32) )\n",
    "model.add( Dense(units=1024, activation='relu') )\n",
    "model.add( Dropout(0.6) )\n",
    "model.add( Dense(units=1, activation='sigmoid') )\n",
    "print(model.summary())"
   ]
  },
  {
   "cell_type": "code",
   "execution_count": 39,
   "id": "977d6bd5",
   "metadata": {},
   "outputs": [
    {
     "name": "stdout",
     "output_type": "stream",
     "text": [
      "Epoch 1/10\n",
      "94/94 - 23s - loss: 0.6028 - accuracy: 0.6932 - val_loss: 0.5117 - val_accuracy: 0.7690 - 23s/epoch - 243ms/step\n",
      "Epoch 2/10\n",
      "94/94 - 21s - loss: 0.4212 - accuracy: 0.8153 - val_loss: 0.4561 - val_accuracy: 0.7845 - 21s/epoch - 222ms/step\n",
      "Epoch 3/10\n",
      "94/94 - 21s - loss: 0.3121 - accuracy: 0.8682 - val_loss: 0.4628 - val_accuracy: 0.7840 - 21s/epoch - 222ms/step\n",
      "Epoch 4/10\n",
      "94/94 - 21s - loss: 0.2630 - accuracy: 0.8960 - val_loss: 0.4621 - val_accuracy: 0.8100 - 21s/epoch - 224ms/step\n",
      "Epoch 5/10\n",
      "94/94 - 21s - loss: 0.2255 - accuracy: 0.9118 - val_loss: 0.4945 - val_accuracy: 0.8040 - 21s/epoch - 223ms/step\n",
      "Epoch 6/10\n",
      "94/94 - 21s - loss: 0.2028 - accuracy: 0.9200 - val_loss: 0.4758 - val_accuracy: 0.8020 - 21s/epoch - 224ms/step\n",
      "Epoch 7/10\n",
      "94/94 - 21s - loss: 0.1788 - accuracy: 0.9313 - val_loss: 0.5645 - val_accuracy: 0.7945 - 21s/epoch - 223ms/step\n",
      "Epoch 8/10\n",
      "94/94 - 21s - loss: 0.1605 - accuracy: 0.9400 - val_loss: 0.6445 - val_accuracy: 0.8000 - 21s/epoch - 224ms/step\n",
      "Epoch 9/10\n",
      "94/94 - 21s - loss: 0.1448 - accuracy: 0.9432 - val_loss: 0.6750 - val_accuracy: 0.7875 - 21s/epoch - 223ms/step\n",
      "Epoch 10/10\n",
      "94/94 - 21s - loss: 0.1292 - accuracy: 0.9490 - val_loss: 0.6488 - val_accuracy: 0.7875 - 21s/epoch - 223ms/step\n"
     ]
    }
   ],
   "source": [
    "# 訓練方式\n",
    "model.compile(loss='binary_crossentropy', optimizer='adam', metrics=['accuracy'])\n",
    "# fit the model\n",
    "train_history = model.fit(train_X, train_Y, batch_size=64, epochs=10, verbose=2, validation_split=0.25 )"
   ]
  },
  {
   "cell_type": "code",
   "execution_count": 40,
   "id": "89602b39",
   "metadata": {},
   "outputs": [
    {
     "name": "stdout",
     "output_type": "stream",
     "text": [
      "63/63 [==============================] - 2s 27ms/step - loss: 0.6545 - accuracy: 0.7755\n",
      "accuracy [0.6545370817184448, 0.7754999995231628]\n"
     ]
    }
   ],
   "source": [
    "# LSTM result\n",
    "scores = model.evaluate(test_X, test_Y)\n",
    "print('accuracy', scores)"
   ]
  },
  {
   "cell_type": "code",
   "execution_count": 41,
   "id": "076ac9ef",
   "metadata": {},
   "outputs": [
    {
     "data": {
      "image/png": "[encoded data removed]",
      "text/plain": [
       "<Figure size 432x288 with 1 Axes>"
      ]
     },
     "metadata": {
      "needs_background": "light"
     },
     "output_type": "display_data"
    },
    {
     "data": {
      "image/png": "[encoded data removed]",
      "text/plain": [
       "<Figure size 432x288 with 1 Axes>"
      ]
     },
     "metadata": {
      "needs_background": "light"
     },
     "output_type": "display_data"
    }
   ],
   "source": [
    "# 畫圖\n",
    "show_train_history('accuracy', 'val_accuracy')\n",
    "show_train_history('loss', 'val_loss')"
   ]
  }
 ],
 "metadata": {
  "kernelspec": {
   "display_name": "base",
   "language": "python",
   "name": "python3"
  },
  "language_info": {
   "codemirror_mode": {
    "name": "ipython",
    "version": 3
   },
   "file_extension": ".py",
   "mimetype": "text/x-python",
   "name": "python",
   "nbconvert_exporter": "python",
   "pygments_lexer": "ipython3",
   "version": "3.8.8"
  },
  "vscode": {
   "interpreter": {
    "hash": "f08154012ddadd8e950e6e9e035c7a7b32c136e7647e9b7c77e02eb723a8bedb"
   }
  }
 },
 "nbformat": 4,
 "nbformat_minor": 5
}
