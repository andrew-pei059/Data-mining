{
 "cells": [
  {
   "cell_type": "code",
   "execution_count": 1,
   "metadata": {},
   "outputs": [],
   "source": [
    "import pandas as pd\n",
    "import numpy as np\n",
    "from tqdm import tqdm\n",
    "import torch\n",
    "import faiss\n",
    "import pickle\n",
    "\n",
    "def get_sparsity(df):\n",
    "    print('reviews/ratings:', len(df))\n",
    "    print('sparsity:', len(df) / ( len(df.AppID.unique())*len(df.UserID.unique()) ))"
   ]
  },
  {
   "attachments": {},
   "cell_type": "markdown",
   "metadata": {},
   "source": [
    "<font size=5> Matrix Factorization </font>"
   ]
  },
  {
   "cell_type": "code",
   "execution_count": 2,
   "metadata": {},
   "outputs": [
    {
     "data": {
      "text/html": [
       "<div>\n",
       "<style scoped>\n",
       "    .dataframe tbody tr th:only-of-type {\n",
       "        vertical-align: middle;\n",
       "    }\n",
       "\n",
       "    .dataframe tbody tr th {\n",
       "        vertical-align: top;\n",
       "    }\n",
       "\n",
       "    .dataframe thead th {\n",
       "        text-align: right;\n",
       "    }\n",
       "</style>\n",
       "<table border=\"1\" class=\"dataframe\">\n",
       "  <thead>\n",
       "    <tr style=\"text-align: right;\">\n",
       "      <th></th>\n",
       "      <th>AppID</th>\n",
       "      <th>UserID</th>\n",
       "      <th>Like</th>\n",
       "      <th>Interacted</th>\n",
       "    </tr>\n",
       "  </thead>\n",
       "  <tbody>\n",
       "    <tr>\n",
       "      <th>0</th>\n",
       "      <td>730</td>\n",
       "      <td>76561197969379991</td>\n",
       "      <td>1</td>\n",
       "      <td>1</td>\n",
       "    </tr>\n",
       "    <tr>\n",
       "      <th>1</th>\n",
       "      <td>730</td>\n",
       "      <td>76561198118543045</td>\n",
       "      <td>0</td>\n",
       "      <td>1</td>\n",
       "    </tr>\n",
       "    <tr>\n",
       "      <th>2</th>\n",
       "      <td>730</td>\n",
       "      <td>76561197971801273</td>\n",
       "      <td>0</td>\n",
       "      <td>1</td>\n",
       "    </tr>\n",
       "    <tr>\n",
       "      <th>3</th>\n",
       "      <td>730</td>\n",
       "      <td>76561198084359238</td>\n",
       "      <td>1</td>\n",
       "      <td>1</td>\n",
       "    </tr>\n",
       "    <tr>\n",
       "      <th>4</th>\n",
       "      <td>730</td>\n",
       "      <td>76561198123845513</td>\n",
       "      <td>0</td>\n",
       "      <td>1</td>\n",
       "    </tr>\n",
       "  </tbody>\n",
       "</table>\n",
       "</div>"
      ],
      "text/plain": [
       "   AppID             UserID  Like  Interacted\n",
       "0    730  76561197969379991     1           1\n",
       "1    730  76561198118543045     0           1\n",
       "2    730  76561197971801273     0           1\n",
       "3    730  76561198084359238     1           1\n",
       "4    730  76561198123845513     0           1"
      ]
     },
     "execution_count": 2,
     "metadata": {},
     "output_type": "execute_result"
    }
   ],
   "source": [
    "# 38162 筆資料。882 Users / 485 Apps\n",
    "df = pd.read_pickle('data/reviews_38162.pkl')\n",
    "df = df[['AppID', 'UserID', 'Like']]\n",
    "# df['AppID'] = df['AppID'].astype('str') or 'int32'\n",
    "df['UserID'] = df['UserID'].astype('int64')\n",
    "df['Interacted'] = 1\n",
    "df.head()"
   ]
  },
  {
   "cell_type": "code",
   "execution_count": null,
   "metadata": {},
   "outputs": [],
   "source": [
    "# train_test_split\n",
    "\n",
    "df = pd.read_pickle('../preprocess/data/reviews_38162.pkl')\n",
    "df = df[ ['UserID', 'AppID', 'Like'] ]\n",
    "train_df, test_df = pd.DataFrame(), pd.DataFrame()\n",
    "train_ratio, test_ration = 0.8, 0.2\n",
    "\n",
    "for uid in df.UserID.unique():\n",
    "    single_user_data = df[ df[\"UserID\"] == uid ]\n",
    "    single_user_data_train = single_user_data[ : int(len(single_user_data)*train_ratio) ]\n",
    "    single_user_data_test = single_user_data[ int(len(single_user_data)*(train_ratio)) : ]\n",
    "    train_df = pd.concat([train_df, single_user_data_train], axis=0)\n",
    "    test_df = pd.concat([test_df, single_user_data_test], axis=0)\n",
    "\n",
    "train_df.reset_index(drop=True, inplace=True)\n",
    "test_df.reset_index(drop=True, inplace=True)\n",
    "len(train_df), len(test_df), len(train_df)+len(test_df)\n",
    "\n",
    "train_df.to_pickle('data/train_data.pkl')\n",
    "test_df.to_pickle('data/test_data.pkl')"
   ]
  },
  {
   "cell_type": "code",
   "execution_count": 4,
   "metadata": {},
   "outputs": [
    {
     "name": "stderr",
     "output_type": "stream",
     "text": [
      "100%|██████████| 882/882 [00:00<00:00, 12115.08it/s]\n",
      "100%|██████████| 882/882 [00:00<00:00, 4355.49it/s]\n"
     ]
    }
   ],
   "source": [
    "# construct rating matrix and interaction matrix\n",
    "interaction_matrix = df.pivot_table(index='UserID', columns='AppID', values='Interacted').fillna(0)\n",
    "rating_matrix = df.pivot_table(index='UserID', columns='AppID', values='Like').fillna(0)\n",
    "trainVector = torch.tensor( rating_matrix.values, dtype=torch.float32 )"
   ]
  },
  {
   "cell_type": "code",
   "execution_count": null,
   "metadata": {},
   "outputs": [],
   "source": [
    "from sklearn.decomposition import NMF\n",
    "\n",
    "def matrix_factorization(matrix):\n",
    "    # n_components is embedding dimension。vervose=1 顯示訓練過程\n",
    "    model = NMF(n_components=512, init='random', max_iter=500, random_state=25, verbose=0)\n",
    "    user_embeddings = model.fit_transform(trainVector*matrix.values)\n",
    "    # 轉成 float32 有兩種寫法\n",
    "    encoded_user_embeddings = np.asarray(user_embeddings, dtype=np.float32)\n",
    "    app_embeddings = model.components_.T\n",
    "    encoded_app_embeddings = np.asarray(app_embeddings.astype('float32'))\n",
    "    print(encoded_user_embeddings.shape)\n",
    "    user_id_emb = dict( zip(matrix.index, encoded_user_embeddings) )\n",
    "    app_id_emb = dict( zip(matrix.columns, encoded_app_embeddings) )\n",
    "\n",
    "    return user_id_emb, app_id_emb\n",
    "\n",
    "user_id_emb, app_id_emb = matrix_factorization(rating_matrix)"
   ]
  },
  {
   "cell_type": "code",
   "execution_count": 38,
   "metadata": {},
   "outputs": [],
   "source": [
    "# save file\n",
    "with open('data/User/user_id_emb.pkl', 'wb') as f:\n",
    "    pickle.dump(user_id_emb, f)\n",
    "\n",
    "with open('data/App/app_id_emb.pkl', 'wb') as f:\n",
    "    pickle.dump(app_id_emb, f)"
   ]
  },
  {
   "attachments": {},
   "cell_type": "markdown",
   "metadata": {},
   "source": [
    "<font size=5> 找鄰居 </font>"
   ]
  },
  {
   "cell_type": "code",
   "execution_count": 44,
   "metadata": {},
   "outputs": [],
   "source": [
    "# 找 user_nbr 的 rating vector\n",
    "def get_nbrRating(user_id_nbr):\n",
    "    nbr_rating_list = []\n",
    "    for uid in user_id_nbr.keys():\n",
    "        nbr = user_id_nbr[uid]\n",
    "        nbr_rating = []\n",
    "        for n_uid in nbr:\n",
    "            nbr_rating.append(rating_matrix.loc[n_uid].values)\n",
    "        nbr_rating_list.append( np.sum(nbr_rating, axis=0) )\n",
    "    \n",
    "    user_id_nbrRating = dict( zip(user_id_nbr.keys(), nbr_rating_list) )\n",
    "\n",
    "    return user_id_nbrRating\n",
    "\n",
    "# 找 user、app 的 k 個鄰居(id)。以及加總 user_nbr 的 rating vector \n",
    "def get_nbr(k=6, user_id_emb=None, app_id_emb=None):\n",
    "    user_id_emb = pd.read_pickle('./data/User/user_id_emb.pkl')\n",
    "    app_id_emb = pd.read_pickle('./data/App/app_id_emb.pkl')\n",
    "\n",
    "    user_emb = np.asarray( list(user_id_emb.values()) )\n",
    "    user_embeddings_index = faiss.IndexIDMap(faiss.IndexFlatIP(user_emb.shape[1]))\n",
    "    user_embeddings_index.add_with_ids( user_emb, np.array(list(user_id_emb.keys())) )\n",
    "    app_emb = np.asarray( list(app_id_emb.values()) )\n",
    "    app_embeddings_index = faiss.IndexIDMap(faiss.IndexFlatIP(app_emb.shape[1]))\n",
    "    app_embeddings_index.add_with_ids( app_emb, np.array(list(app_id_emb.keys())) )\n",
    "\n",
    "    # 找出每筆資料的 k neighbors。user_nbr_idx 是 list，每個元素存 k 個鄰居的 user_id\n",
    "    user_nbr_distances, user_nbr_idx = user_embeddings_index.search(user_emb, k)\n",
    "    app_nbr_distances, app_nbr_idx = app_embeddings_index.search(app_emb, k)\n",
    "    # index 0 是自己，需要刪掉\n",
    "    user_nbr_idx = np.delete(user_nbr_idx, 0, axis=1)\n",
    "    app_nbr_idx = np.delete(app_nbr_idx, 0, axis=1)\n",
    "    # user_id_nbr : { user_id : user_nbr_id }。user_nbr_id 的型態是 ndarray，shape=(882, 5)\n",
    "    user_id_nbr = dict( zip(user_id_emb.keys(), user_nbr_idx) )\n",
    "    app_id_nbr = dict( zip(app_id_emb.keys(), app_nbr_idx) )\n",
    "    user_id_nbrRating = get_nbrRating(user_id_nbr)\n",
    "\n",
    "    return user_id_nbr, app_id_nbr, user_id_nbrRating\n",
    "\n",
    "user_id_nbr, app_id_nbr, user_id_nbrRating = get_nbr(k=6)"
   ]
  },
  {
   "cell_type": "code",
   "execution_count": 45,
   "metadata": {},
   "outputs": [],
   "source": [
    "# save file\n",
    "with open('data/User/user_id_nbr.pkl', 'wb') as f:\n",
    "    pickle.dump(user_id_nbr, f)\n",
    "\n",
    "with open('data/App/app_id_nbr.pkl', 'wb') as f:\n",
    "    pickle.dump(app_id_nbr, f)\n",
    "\n",
    "with open('data/User/user_id_nbrRating.pkl', 'wb') as f:\n",
    "    pickle.dump(user_id_nbrRating, f)"
   ]
  },
  {
   "attachments": {},
   "cell_type": "markdown",
   "metadata": {},
   "source": [
    "<font size=5> 找互動過的使用者、遊戲 </font>"
   ]
  },
  {
   "cell_type": "code",
   "execution_count": 7,
   "metadata": {},
   "outputs": [
    {
     "name": "stdout",
     "output_type": "stream",
     "text": [
      "min user interacted apps:  30\n",
      "min app interacted users:  36\n"
     ]
    }
   ],
   "source": [
    "min_user_interacted_apps = min(df['UserID'].value_counts().values)\n",
    "print('min user interacted apps: ', min_user_interacted_apps)\n",
    "min_app_interacted_users = min(df['AppID'].value_counts().values)\n",
    "print('min app interacted users: ', min_app_interacted_users)"
   ]
  },
  {
   "cell_type": "code",
   "execution_count": 8,
   "metadata": {},
   "outputs": [],
   "source": [
    "# nonzero 函數回傳的是 index。搭配 id_map 取得 user_id、app_id\n",
    "\n",
    "def get_user_interacted_apps(matrix, k=5):\n",
    "    app_id_emb = pd.read_pickle('data/App/app_id_emb.pkl')\n",
    "    app_id_map = { idx:aid for idx,aid in enumerate(matrix.columns) }\n",
    "\n",
    "    # user_interacted_apps_emb 以字典形式儲存 { user_id: interacted_app_emb }\n",
    "    interacted_app_ids = []\n",
    "    interacted_app_emb = []\n",
    "    for uid in matrix.index:\n",
    "        # 取出有評論之 app 的索引，再到 app_id_map 取出對應的 app_id\n",
    "        app_idx = matrix.loc[uid].values.nonzero()[0]\n",
    "        app_ids = [ app_id_map[idx] for idx in app_idx ]\n",
    "        # 從 user 互動過的所有 apps 中隨機取 k 個\n",
    "        app_ids = random.sample(app_ids, k)\n",
    "        interacted_app_ids.append(app_ids)\n",
    "        # 存 Embedding\n",
    "        app_emb = [ app_id_emb[aid] for aid in app_ids ]\n",
    "        interacted_app_emb.append(app_emb)\n",
    "\n",
    "    user_interacted_appID = dict(zip( matrix.index, interacted_app_ids ))\n",
    "    user_interacted_appEmb = dict(zip( matrix.index, interacted_app_emb ))\n",
    "\n",
    "    return user_interacted_appID, user_interacted_appEmb\n",
    "\n",
    "def get_app_interacted_users(matrix, k=15):\n",
    "    user_id_emb = pd.read_pickle('data/User/user_id_emb.pkl')\n",
    "    user_id_map = { idx:uid for idx,uid in enumerate(matrix.index) }\n",
    "\n",
    "    # interacted_user_emb 以字典形式儲存 { app_id: interacted_user_emb }\n",
    "    interacted_user_ids = []\n",
    "    interacted_user_emb = []\n",
    "    for aid in matrix.columns:\n",
    "        # 取出有評論之 user 的索引，再到 user_id_map 取出對應的 user_id\n",
    "        user_idx = matrix[aid].values.nonzero()[0]\n",
    "        user_ids = [ user_id_map[idx] for idx in user_idx ]\n",
    "        # 從與 app 有互動的所有 users 中隨機取 k 個\n",
    "        user_ids = random.sample(user_ids, k)\n",
    "        interacted_user_ids.append(user_ids)\n",
    "        # 存 Embedding\n",
    "        user_emb = [ user_id_emb[uid] for uid in user_ids ]\n",
    "        interacted_user_emb.append( user_emb )\n",
    "\n",
    "    app_interacted_userID = dict( zip( matrix.columns, interacted_user_ids ) )\n",
    "    app_interacted_usersEmb = dict( zip( matrix.columns, interacted_user_emb ) )\n",
    "\n",
    "    return app_interacted_userID, app_interacted_usersEmb\n",
    "\n",
    "# 使用者互動過的遊戲個數、與遊戲有互動的使用者人數\n",
    "interacted_apps, interacted_users = 30, 35\n",
    "user_interacted_appID, user_interacted_appEmb = get_user_interacted_apps(interaction_matrix, interacted_apps)\n",
    "app_interacted_userID, app_interacted_userEmb = get_app_interacted_users(interaction_matrix, interacted_users)"
   ]
  },
  {
   "cell_type": "code",
   "execution_count": 14,
   "metadata": {},
   "outputs": [],
   "source": [
    "# save file\n",
    "with open('data/User/user_interacted_appID.pkl', 'wb') as f:\n",
    "    pickle.dump(user_interacted_appID, f)\n",
    "\n",
    "with open('data/App/app_interacted_userID.pkl', 'wb') as f:\n",
    "    pickle.dump(app_interacted_userID, f)\n",
    "\n",
    "with open('data/User/user_interacted_appEmb.pkl', 'wb') as f:\n",
    "    pickle.dump(user_interacted_appEmb, f)\n",
    "\n",
    "with open('data/App/app_interacted_userEmb.pkl', 'wb') as f:\n",
    "    pickle.dump(app_interacted_userEmb, f)"
   ]
  },
  {
   "attachments": {},
   "cell_type": "markdown",
   "metadata": {},
   "source": [
    "<font size=5> 評論 </font>"
   ]
  },
  {
   "cell_type": "code",
   "execution_count": 32,
   "metadata": {},
   "outputs": [
    {
     "data": {
      "text/html": [
       "<div>\n",
       "<style scoped>\n",
       "    .dataframe tbody tr th:only-of-type {\n",
       "        vertical-align: middle;\n",
       "    }\n",
       "\n",
       "    .dataframe tbody tr th {\n",
       "        vertical-align: top;\n",
       "    }\n",
       "\n",
       "    .dataframe thead th {\n",
       "        text-align: right;\n",
       "    }\n",
       "</style>\n",
       "<table border=\"1\" class=\"dataframe\">\n",
       "  <thead>\n",
       "    <tr style=\"text-align: right;\">\n",
       "      <th></th>\n",
       "      <th>AppID</th>\n",
       "      <th>UserID</th>\n",
       "      <th>ReviewEmbedding</th>\n",
       "    </tr>\n",
       "  </thead>\n",
       "  <tbody>\n",
       "    <tr>\n",
       "      <th>38157</th>\n",
       "      <td>9160</td>\n",
       "      <td>76561197964009814</td>\n",
       "      <td>[-0.30888498, -0.22816569, 0.16695397, 0.09922...</td>\n",
       "    </tr>\n",
       "    <tr>\n",
       "      <th>38158</th>\n",
       "      <td>9160</td>\n",
       "      <td>76561197977081885</td>\n",
       "      <td>[-0.058153145, -0.45727348, 0.11072462, 0.0453...</td>\n",
       "    </tr>\n",
       "    <tr>\n",
       "      <th>38159</th>\n",
       "      <td>9160</td>\n",
       "      <td>76561197993676094</td>\n",
       "      <td>[0.21907169, -0.3302766, 0.37175688, 0.1595228...</td>\n",
       "    </tr>\n",
       "    <tr>\n",
       "      <th>38160</th>\n",
       "      <td>9160</td>\n",
       "      <td>76561198010396848</td>\n",
       "      <td>[-0.343751, -0.6017795, 0.13571796, 0.17510062...</td>\n",
       "    </tr>\n",
       "    <tr>\n",
       "      <th>38161</th>\n",
       "      <td>9160</td>\n",
       "      <td>76561197973200565</td>\n",
       "      <td>[0.09694105, -0.22228487, 0.48190293, 0.183993...</td>\n",
       "    </tr>\n",
       "  </tbody>\n",
       "</table>\n",
       "</div>"
      ],
      "text/plain": [
       "       AppID             UserID  \\\n",
       "38157   9160  76561197964009814   \n",
       "38158   9160  76561197977081885   \n",
       "38159   9160  76561197993676094   \n",
       "38160   9160  76561198010396848   \n",
       "38161   9160  76561197973200565   \n",
       "\n",
       "                                         ReviewEmbedding  \n",
       "38157  [-0.30888498, -0.22816569, 0.16695397, 0.09922...  \n",
       "38158  [-0.058153145, -0.45727348, 0.11072462, 0.0453...  \n",
       "38159  [0.21907169, -0.3302766, 0.37175688, 0.1595228...  \n",
       "38160  [-0.343751, -0.6017795, 0.13571796, 0.17510062...  \n",
       "38161  [0.09694105, -0.22228487, 0.48190293, 0.183993...  "
      ]
     },
     "execution_count": 32,
     "metadata": {},
     "output_type": "execute_result"
    }
   ],
   "source": [
    "review_df = pd.read_pickle('data/reviews_embedding.pkl')\n",
    "review_df = review_df[['AppID', 'UserID', 'ReviewEmbedding']]\n",
    "review_df.tail()"
   ]
  },
  {
   "cell_type": "code",
   "execution_count": 60,
   "metadata": {},
   "outputs": [],
   "source": [
    "# Get User's Review Vectors、Item's Review Vectors\n",
    "\n",
    "# User 寫過的評論。user 至少有 30 篇\n",
    "user_apps = pd.read_pickle('data/User/user_interacted_appID.pkl')\n",
    "user_group = review_df.groupby('UserID')\n",
    "min_reviews = min( 30, min(review_df.UserID.value_counts().values) )  # 防錯，後面那串應該30以上\n",
    "# 對每個 user 隨機取 min_reviews(30) 個數的評論\n",
    "reviews_emb = [ random.sample( list(user_group.get_group(uid)['ReviewEmbedding'].values[:]), min_reviews ) for uid in user_apps.keys() ]\n",
    "user_id_ReviewsEmb = dict( zip(user_apps.keys(), reviews_emb) )\n",
    "\n",
    "# App 擁有的評論。app 至少有 36 篇\n",
    "app_users = pd.read_pickle('data/App/app_interacted_userID.pkl')\n",
    "app_group = review_df.groupby('AppID')\n",
    "min_reviews = min( 30, min(review_df.AppID.value_counts().values) )  # 防錯，後面那串應該36以上\n",
    "# 對每個 app 隨機取 min_reviews(30) 個數的評論\n",
    "reviews_emb = [ random.sample( list( app_group.get_group(aid)['ReviewEmbedding'].values[:] ), min_reviews ) for aid in app_users.keys() ]\n",
    "app_id_ReviewsEmb = dict( zip(app_users.keys(), reviews_emb) )\n",
    "\n",
    "# save file\n",
    "with open('data/User/user_id_ReviewsEmb.pkl', 'wb') as f:\n",
    "    pickle.dump(user_id_ReviewsEmb, f)\n",
    "with open('data/App/app_id_ReviewsEmb.pkl', 'wb') as f:\n",
    "    pickle.dump(app_id_ReviewsEmb, f)"
   ]
  },
  {
   "cell_type": "code",
   "execution_count": 5,
   "metadata": {},
   "outputs": [],
   "source": [
    "# 鄰居數。user/app 各取 5 \n",
    "# 將每個鄰居寫過的所有評論加總平均，一個鄰居是一個 768 維的向量\n",
    "def get_user_nbrReviewsEmb(k=5):\n",
    "    user_nbr = pd.read_pickle('data/User/user_id_nbr.pkl')\n",
    "    user_revEmb = pd.read_pickle('data/User/user_id_ReviewsEmb.pkl')\n",
    "\n",
    "    all_user_nbr_revEmb = []\n",
    "    for uid in user_nbr.keys():\n",
    "        nbr_ids = user_nbr[uid]\n",
    "        # 從鄰居寫過的所有評論中隨機取 k 個算平均，每個鄰居以 768 維的向量表示\n",
    "        # nbr_revEmb = [ np.mean( random.sample(user_revEmb[nuid], k), 0 ) for nuid in nbr_ids ]\n",
    "        # 對鄰居的所有評論算平均，每個鄰居以 768 維的向量表示\n",
    "        nbr_revEmb = [ np.mean(user_revEmb[nuid], 0) for nuid in nbr_ids ]\n",
    "        all_user_nbr_revEmb.append(nbr_revEmb)\n",
    "\n",
    "    user_id_nbrReviewsEmb = dict( zip(user_nbr.keys(), all_user_nbr_revEmb) )\n",
    "\n",
    "    return user_id_nbrReviewsEmb\n",
    "\n",
    "def get_item_nbrReviewsEmb():\n",
    "    app_nbr = pd.read_pickle('data/App/app_id_nbr.pkl')\n",
    "    app_revEmb = pd.read_pickle('data/App/app_id_ReviewsEmb.pkl')\n",
    "    \n",
    "    all_app_nbr_revEmb = []\n",
    "    for aid in app_nbr.keys():\n",
    "        app_ids = app_nbr[aid]\n",
    "        nbr_revEmb = [ np.mean(app_revEmb[naid], 0) for naid in app_ids ]\n",
    "        all_app_nbr_revEmb.append(nbr_revEmb)\n",
    "\n",
    "    app_id_nbrReviewsEmb = dict( zip(app_nbr.keys(), all_app_nbr_revEmb) )\n",
    "\n",
    "    return app_id_nbrReviewsEmb\n",
    "\n",
    "# -------------------------------------------------------------------\n",
    "user_id_nbrReviewsEmb = get_user_nbrReviewsEmb()\n",
    "app_id_nbrReviewsEmb = get_item_nbrReviewsEmb()\n",
    "\n",
    "with open('data/User/user_id_nbrReviewsEmb.pkl', 'wb') as f:\n",
    "    pickle.dump(user_id_nbrReviewsEmb, f)\n",
    "with open('data/App/app_id_nbrReviewsEmb.pkl', 'wb') as f:\n",
    "    pickle.dump(app_id_nbrReviewsEmb, f)"
   ]
  }
 ],
 "metadata": {
  "kernelspec": {
   "display_name": "paper",
   "language": "python",
   "name": "python3"
  },
  "language_info": {
   "codemirror_mode": {
    "name": "ipython",
    "version": 3
   },
   "file_extension": ".py",
   "mimetype": "text/x-python",
   "name": "python",
   "nbconvert_exporter": "python",
   "pygments_lexer": "ipython3",
   "version": "3.8.15"
  },
  "orig_nbformat": 4,
  "vscode": {
   "interpreter": {
    "hash": "1c0114bf4ae83c0c5265a1248268e9d5cc21b45882a20043cece1005fc515b08"
   }
  }
 },
 "nbformat": 4,
 "nbformat_minor": 2
}
