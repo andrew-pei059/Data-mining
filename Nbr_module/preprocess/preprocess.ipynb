{
 "cells": [
  {
   "attachments": {},
   "cell_type": "markdown",
   "metadata": {},
   "source": [
    "### 篩選字數"
   ]
  },
  {
   "cell_type": "code",
   "execution_count": 2,
   "metadata": {},
   "outputs": [],
   "source": [
    "import re\n",
    "import torch\n",
    "import pandas as pd\n",
    "import numpy as np\n",
    "from tqdm import tqdm\n",
    "from transformers import BertTokenizer, BertModel, BertConfig"
   ]
  },
  {
   "cell_type": "code",
   "execution_count": 2,
   "metadata": {},
   "outputs": [
    {
     "name": "stdout",
     "output_type": "stream",
     "text": [
      "13355023\n",
      "13355023\n"
     ]
    }
   ],
   "source": [
    "# 原始資料有 13355023\n",
    "df = pd.read_pickle('data/reviews.pkl')\n",
    "df.drop(columns=['RefValue', 'VoteUp'], inplace=True)\n",
    "\n",
    "# 分句\n",
    "split_rev = []\n",
    "for review in df['Review']:\n",
    "    sentences = review.splitlines()\n",
    "    sentences = list(filter(None, sentences))\n",
    "    tmp = []\n",
    "    for sent in sentences:\n",
    "        sent = re.split(r' *[\\.\\?!][\\'\"\\)\\]]* *', sent)\n",
    "        tmp.extend(sent)\n",
    "    min_words_sent = 3\n",
    "    sentences = list(filter(lambda x:len(x.split())>min_words_sent, tmp))\n",
    "    split_rev.append(sentences)\n",
    "\n",
    "df['SplitReview'] = split_rev\n",
    "len(df)"
   ]
  },
  {
   "cell_type": "code",
   "execution_count": null,
   "metadata": {},
   "outputs": [],
   "source": [
    "# 刪除[]，剩下10026632。有 24954 Apps/ 4885508 users\n",
    "empty_list = [ i for i,x in enumerate(df['SplitReview']) if x ==[] ]\n",
    "df.drop(empty_list, axis=0, inplace=True)\n",
    "df.reset_index(drop=True, inplace=True)\n",
    "len(df)"
   ]
  },
  {
   "cell_type": "code",
   "execution_count": 8,
   "metadata": {},
   "outputs": [
    {
     "data": {
      "text/plain": [
       "9531685"
      ]
     },
     "execution_count": 8,
     "metadata": {},
     "output_type": "execute_result"
    }
   ],
   "source": [
    "# 選擇類別\n",
    "# select_cate 中，如果刪掉RPG，在filter_user_app 不管 threshold 怎麼設定都無法穩定\n",
    "def select_app_category(df):\n",
    "    select_cate = ['Indie', 'Action', 'Casual', 'Adventure', 'Simulation', 'Strategy', 'RPG']\n",
    "    select_cate = select_cate[:-1]\n",
    "    genre = pd.read_csv('data/app_review_summary.csv')\n",
    "    # game_cate(eg 'Action,Adventure,Strategy')，split 後檢查是否有任一類別在 select_cate 中\n",
    "    app_list = [ genre['AppID'][i] for i,game_cates in enumerate(genre['Genres']) \n",
    "                if ([cate for cate in game_cates.split(',') if cate in select_cate] != []) ]\n",
    "    df = df[ df['AppID'].isin(app_list) ]\n",
    "\n",
    "    return df\n",
    "\n",
    "def filter_user_app(df, app_threshold, user_threshold):\n",
    "    # 篩選評論數\n",
    "    app_reviews = df['AppID'].value_counts()\n",
    "    filter_apps = app_reviews[app_reviews >= app_threshold].index[:]\n",
    "    df = df[ df['AppID'].isin(filter_apps) ]\n",
    "    user_reviews = df['UserID'].value_counts()\n",
    "    filter_users = user_reviews[user_reviews >= user_threshold].index[:]\n",
    "    df = df[ df['UserID'].isin(filter_users) ]\n",
    "    df.reset_index(drop=True, inplace=True)\n",
    "\n",
    "    return df\n",
    "\n",
    "filter_data = select_app_category(df)\n",
    "len(filter_data)"
   ]
  },
  {
   "cell_type": "code",
   "execution_count": 9,
   "metadata": {},
   "outputs": [
    {
     "name": "stdout",
     "output_type": "stream",
     "text": [
      "Apps:  485 Users:  882\n",
      "total data:  38162\n",
      "36 30\n"
     ]
    }
   ],
   "source": [
    "# 反覆檢查使用者評論數、遊戲評論數是否平衡\n",
    "app_threshold, user_threshold, max_count = 40, 30, 35\n",
    "count, min_app = 0, 1\n",
    "while (min_app < app_threshold) and (count < max_count):\n",
    "    print(str(count)+\"\\r\", end=\"\")\n",
    "    filter_data = filter_user_app(filter_data, app_threshold, user_threshold)\n",
    "    min_app = min(filter_data['AppID'].value_counts())\n",
    "    count += 1\n",
    "\n",
    "print('Apps: ', len(filter_data['AppID'].unique()), 'Users: ', len(filter_data['UserID'].unique()))\n",
    "print('total data: ', len(filter_data))\n",
    "print(min(filter_data['AppID'].value_counts()), min(filter_data['UserID'].value_counts()))"
   ]
  },
  {
   "cell_type": "code",
   "execution_count": 6,
   "metadata": {},
   "outputs": [],
   "source": [
    "# save file\n",
    "filter_data['Like'] = filter_data['Like'].apply(lambda x : 0 if x == False else 1)\n",
    "filter_data['Like'] = filter_data['Like'].astype(int)\n",
    "filter_data['UserID'] = filter_data['UserID'].astype('int64')\n",
    "filter_data.to_pickle('data/reviews_38162.pkl')"
   ]
  },
  {
   "attachments": {},
   "cell_type": "markdown",
   "metadata": {},
   "source": [
    "<font size=5> BERT Embedding </font>"
   ]
  },
  {
   "cell_type": "code",
   "execution_count": 3,
   "metadata": {},
   "outputs": [
    {
     "data": {
      "text/html": [
       "<div>\n",
       "<style scoped>\n",
       "    .dataframe tbody tr th:only-of-type {\n",
       "        vertical-align: middle;\n",
       "    }\n",
       "\n",
       "    .dataframe tbody tr th {\n",
       "        vertical-align: top;\n",
       "    }\n",
       "\n",
       "    .dataframe thead th {\n",
       "        text-align: right;\n",
       "    }\n",
       "</style>\n",
       "<table border=\"1\" class=\"dataframe\">\n",
       "  <thead>\n",
       "    <tr style=\"text-align: right;\">\n",
       "      <th></th>\n",
       "      <th>AppID</th>\n",
       "      <th>UserID</th>\n",
       "      <th>Like</th>\n",
       "      <th>Review</th>\n",
       "      <th>SplitReview</th>\n",
       "    </tr>\n",
       "  </thead>\n",
       "  <tbody>\n",
       "    <tr>\n",
       "      <th>0</th>\n",
       "      <td>730</td>\n",
       "      <td>76561197969379991</td>\n",
       "      <td>1</td>\n",
       "      <td>wingman is fun with friends.</td>\n",
       "      <td>[wingman is fun with friends]</td>\n",
       "    </tr>\n",
       "    <tr>\n",
       "      <th>1</th>\n",
       "      <td>730</td>\n",
       "      <td>76561198118543045</td>\n",
       "      <td>0</td>\n",
       "      <td>Awful, toxic community and annoying game play....</td>\n",
       "      <td>[Awful, toxic community and annoying game play...</td>\n",
       "    </tr>\n",
       "    <tr>\n",
       "      <th>2</th>\n",
       "      <td>730</td>\n",
       "      <td>76561197971801273</td>\n",
       "      <td>0</td>\n",
       "      <td>After playing Counterstrike: Source for 12000+...</td>\n",
       "      <td>[After playing Counterstrike: Source for 12000...</td>\n",
       "    </tr>\n",
       "    <tr>\n",
       "      <th>3</th>\n",
       "      <td>730</td>\n",
       "      <td>76561198084359238</td>\n",
       "      <td>1</td>\n",
       "      <td>Lots of fun to be had with this one. A lot of ...</td>\n",
       "      <td>[Lots of fun to be had with this one, A lot of...</td>\n",
       "    </tr>\n",
       "    <tr>\n",
       "      <th>4</th>\n",
       "      <td>730</td>\n",
       "      <td>76561198123845513</td>\n",
       "      <td>0</td>\n",
       "      <td>[h1] This really doesn't have the feel of spor...</td>\n",
       "      <td>[[h1] This really doesn't have the feel of spo...</td>\n",
       "    </tr>\n",
       "  </tbody>\n",
       "</table>\n",
       "</div>"
      ],
      "text/plain": [
       "   AppID             UserID  Like  \\\n",
       "0    730  76561197969379991     1   \n",
       "1    730  76561198118543045     0   \n",
       "2    730  76561197971801273     0   \n",
       "3    730  76561198084359238     1   \n",
       "4    730  76561198123845513     0   \n",
       "\n",
       "                                              Review  \\\n",
       "0                       wingman is fun with friends.   \n",
       "1  Awful, toxic community and annoying game play....   \n",
       "2  After playing Counterstrike: Source for 12000+...   \n",
       "3  Lots of fun to be had with this one. A lot of ...   \n",
       "4  [h1] This really doesn't have the feel of spor...   \n",
       "\n",
       "                                         SplitReview  \n",
       "0                      [wingman is fun with friends]  \n",
       "1  [Awful, toxic community and annoying game play...  \n",
       "2  [After playing Counterstrike: Source for 12000...  \n",
       "3  [Lots of fun to be had with this one, A lot of...  \n",
       "4  [[h1] This really doesn't have the feel of spo...  "
      ]
     },
     "execution_count": 3,
     "metadata": {},
     "output_type": "execute_result"
    }
   ],
   "source": [
    "df = pd.read_pickle('data/reviews_38162.pkl')\n",
    "df.head()"
   ]
  },
  {
   "cell_type": "code",
   "execution_count": 5,
   "metadata": {},
   "outputs": [
    {
     "name": "stderr",
     "output_type": "stream",
     "text": [
      "Some weights of the model checkpoint at bert-base-uncased were not used when initializing BertModel: ['cls.seq_relationship.bias', 'cls.predictions.transform.dense.weight', 'cls.predictions.transform.dense.bias', 'cls.predictions.transform.LayerNorm.bias', 'cls.predictions.decoder.weight', 'cls.predictions.transform.LayerNorm.weight', 'cls.predictions.bias', 'cls.seq_relationship.weight']\n",
      "- This IS expected if you are initializing BertModel from the checkpoint of a model trained on another task or with another architecture (e.g. initializing a BertForSequenceClassification model from a BertForPreTraining model).\n",
      "- This IS NOT expected if you are initializing BertModel from the checkpoint of a model that you expect to be exactly identical (initializing a BertForSequenceClassification model from a BertForSequenceClassification model).\n"
     ]
    }
   ],
   "source": [
    "df = pd.read_pickle('data/reviews_38162.pkl')\n",
    "device = \"cuda\" if torch.cuda.is_available() else \"cpu\"\n",
    "configuration = BertConfig()\n",
    "model = BertModel.from_pretrained('bert-base-uncased', output_hidden_states = True).to(device)\n",
    "bert_tokenizer = BertTokenizer.from_pretrained('bert-base-uncased')"
   ]
  },
  {
   "cell_type": "code",
   "execution_count": 6,
   "metadata": {},
   "outputs": [
    {
     "name": "stderr",
     "output_type": "stream",
     "text": [
      "100%|██████████| 38162/38162 [50:17<00:00, 12.65it/s]  \n"
     ]
    }
   ],
   "source": [
    "# BERT embedding\n",
    "review_emb_list = []\n",
    "# 句字中字數的 avg=16, std = 10\n",
    "MAX_LENGTH = 25\n",
    "\n",
    "model.eval()\n",
    "for review in tqdm(df['SplitReview']):\n",
    "    torch.cuda.empty_cache()\n",
    "    sent_emb_list = []\n",
    "    for sent in review:\n",
    "        sent_encode = bert_tokenizer.encode_plus(\n",
    "            sent,\n",
    "            add_special_tokens=True,  # Add [CLS] and [SEP]\n",
    "            return_attention_mask = True,\n",
    "            max_length = MAX_LENGTH,\n",
    "            truncation = True,\n",
    "            padding = \"max_length\",\n",
    "            return_tensors = 'pt'\n",
    "        )\n",
    "        with torch.no_grad():\n",
    "            outputs = model(sent_encode[\"input_ids\"].to(device), sent_encode[\"attention_mask\"].to(device))\n",
    "\n",
    "        # outputs[2][-1] 與 outputs[0] 是一樣的\n",
    "        sent_emb = outputs[2][-1]\n",
    "        # MAX_LENGTH * 768 -> 768\n",
    "        sent_emb = torch.mean(sent_emb, dim=1)\n",
    "        sent_emb_list.append(sent_emb)\n",
    "\n",
    "    review_emb = torch.cat(sent_emb_list, 0)\n",
    "    # mean 會把維度 1 的地方 squeeze。5*768 算完 mean 後是 768，而非 1*768\n",
    "    review_emb = torch.mean(review_emb, dim=0)\n",
    "    review_emb_list.append( np.array(review_emb, dtype=np.float32) )"
   ]
  },
  {
   "cell_type": "code",
   "execution_count": 7,
   "metadata": {},
   "outputs": [
    {
     "data": {
      "text/html": [
       "<div>\n",
       "<style scoped>\n",
       "    .dataframe tbody tr th:only-of-type {\n",
       "        vertical-align: middle;\n",
       "    }\n",
       "\n",
       "    .dataframe tbody tr th {\n",
       "        vertical-align: top;\n",
       "    }\n",
       "\n",
       "    .dataframe thead th {\n",
       "        text-align: right;\n",
       "    }\n",
       "</style>\n",
       "<table border=\"1\" class=\"dataframe\">\n",
       "  <thead>\n",
       "    <tr style=\"text-align: right;\">\n",
       "      <th></th>\n",
       "      <th>AppID</th>\n",
       "      <th>UserID</th>\n",
       "      <th>Like</th>\n",
       "      <th>Review</th>\n",
       "      <th>SplitReview</th>\n",
       "      <th>ReviewEmbedding</th>\n",
       "    </tr>\n",
       "  </thead>\n",
       "  <tbody>\n",
       "    <tr>\n",
       "      <th>0</th>\n",
       "      <td>730</td>\n",
       "      <td>76561197969379991</td>\n",
       "      <td>1</td>\n",
       "      <td>wingman is fun with friends.</td>\n",
       "      <td>[wingman is fun with friends]</td>\n",
       "      <td>[tensor(-0.1944), tensor(-0.4107), tensor(0.20...</td>\n",
       "    </tr>\n",
       "    <tr>\n",
       "      <th>1</th>\n",
       "      <td>730</td>\n",
       "      <td>76561198118543045</td>\n",
       "      <td>0</td>\n",
       "      <td>Awful, toxic community and annoying game play....</td>\n",
       "      <td>[Awful, toxic community and annoying game play...</td>\n",
       "      <td>[tensor(0.1559), tensor(-0.0969), tensor(0.063...</td>\n",
       "    </tr>\n",
       "    <tr>\n",
       "      <th>2</th>\n",
       "      <td>730</td>\n",
       "      <td>76561197971801273</td>\n",
       "      <td>0</td>\n",
       "      <td>After playing Counterstrike: Source for 12000+...</td>\n",
       "      <td>[After playing Counterstrike: Source for 12000...</td>\n",
       "      <td>[tensor(-0.0666), tensor(-0.1512), tensor(0.57...</td>\n",
       "    </tr>\n",
       "    <tr>\n",
       "      <th>3</th>\n",
       "      <td>730</td>\n",
       "      <td>76561198084359238</td>\n",
       "      <td>1</td>\n",
       "      <td>Lots of fun to be had with this one. A lot of ...</td>\n",
       "      <td>[Lots of fun to be had with this one, A lot of...</td>\n",
       "      <td>[tensor(0.0143), tensor(-0.0916), tensor(0.084...</td>\n",
       "    </tr>\n",
       "    <tr>\n",
       "      <th>4</th>\n",
       "      <td>730</td>\n",
       "      <td>76561198123845513</td>\n",
       "      <td>0</td>\n",
       "      <td>[h1] This really doesn't have the feel of spor...</td>\n",
       "      <td>[[h1] This really doesn't have the feel of spo...</td>\n",
       "      <td>[tensor(0.1439), tensor(-0.0896), tensor(0.106...</td>\n",
       "    </tr>\n",
       "  </tbody>\n",
       "</table>\n",
       "</div>"
      ],
      "text/plain": [
       "   AppID             UserID  Like  \\\n",
       "0    730  76561197969379991     1   \n",
       "1    730  76561198118543045     0   \n",
       "2    730  76561197971801273     0   \n",
       "3    730  76561198084359238     1   \n",
       "4    730  76561198123845513     0   \n",
       "\n",
       "                                              Review  \\\n",
       "0                       wingman is fun with friends.   \n",
       "1  Awful, toxic community and annoying game play....   \n",
       "2  After playing Counterstrike: Source for 12000+...   \n",
       "3  Lots of fun to be had with this one. A lot of ...   \n",
       "4  [h1] This really doesn't have the feel of spor...   \n",
       "\n",
       "                                         SplitReview  \\\n",
       "0                      [wingman is fun with friends]   \n",
       "1  [Awful, toxic community and annoying game play...   \n",
       "2  [After playing Counterstrike: Source for 12000...   \n",
       "3  [Lots of fun to be had with this one, A lot of...   \n",
       "4  [[h1] This really doesn't have the feel of spo...   \n",
       "\n",
       "                                     ReviewEmbedding  \n",
       "0  [tensor(-0.1944), tensor(-0.4107), tensor(0.20...  \n",
       "1  [tensor(0.1559), tensor(-0.0969), tensor(0.063...  \n",
       "2  [tensor(-0.0666), tensor(-0.1512), tensor(0.57...  \n",
       "3  [tensor(0.0143), tensor(-0.0916), tensor(0.084...  \n",
       "4  [tensor(0.1439), tensor(-0.0896), tensor(0.106...  "
      ]
     },
     "execution_count": 7,
     "metadata": {},
     "output_type": "execute_result"
    }
   ],
   "source": [
    "# save file\n",
    "df[\"ReviewEmbedding\"] = review_emb_list\n",
    "df.to_pickle('data/review_embedding.pkl')\n",
    "df.head()"
   ]
  }
 ],
 "metadata": {
  "kernelspec": {
   "display_name": "paper",
   "language": "python",
   "name": "python3"
  },
  "language_info": {
   "codemirror_mode": {
    "name": "ipython",
    "version": 3
   },
   "file_extension": ".py",
   "mimetype": "text/x-python",
   "name": "python",
   "nbconvert_exporter": "python",
   "pygments_lexer": "ipython3",
   "version": "3.8.15"
  },
  "orig_nbformat": 4
 },
 "nbformat": 4,
 "nbformat_minor": 2
}
