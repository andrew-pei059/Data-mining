{
 "cells": [
  {
   "attachments": {},
   "cell_type": "markdown",
   "id": "c2314780",
   "metadata": {},
   "source": [
    "<font size=6> Time Series </font> <br/>\n",
    "<font size=3> 以空氣指標預測未來一小時、六小時是否會降雨 </font> <br/>\n",
    "<font size=3>\n",
    " 空氣指標共有 18 種，測試拿單一指標\n",
    " <font size=3 color=green> PM 2.5 </font>\n",
    " 與所有指標的差異\n",
    "</font>"
   ]
  },
  {
   "cell_type": "code",
   "execution_count": 2,
   "id": "14037192",
   "metadata": {},
   "outputs": [],
   "source": [
    "import pandas as pd\n",
    "import numpy as np\n",
    "data = pd.read_csv('新竹_2020.csv', encoding='Big5')\n",
    "data.columns = ['A', 'date', 'att', '0', '1', '2', '3', '4', '5', '6', '7', '8', '9', '10',\n",
    "                '11', '12', '13', '14', '15', '16', '17', '18', '19', '20', '21', '22', '23']\n",
    "data.drop(columns=['A'], inplace=True)\n",
    "data.drop(index=[0], inplace=True)\n",
    "replace_symbol = ['#                              ', 'x                              ', '*                              '\n",
    "                 , 'A                              ', 'NA                             ']\n",
    "data = data.apply( lambda x: x.replace(replace_symbol, np.nan) )\n",
    "data.drop(columns=['date'], inplace=True)\n",
    "# 4932 之後是10月的\n",
    "train_data = data.iloc[4932:6030, :]\n",
    "test_data = data.iloc[6030:, :]"
   ]
  },
  {
   "attachments": {},
   "cell_type": "markdown",
   "id": "d751f8dc",
   "metadata": {},
   "source": [
    "<font size=5> Preprocess </font> <br/>\n",
    "<font size=3> 前處理後切分訓練、測試資料 </font>"
   ]
  },
  {
   "cell_type": "code",
   "execution_count": 3,
   "id": "8043e88e",
   "metadata": {},
   "outputs": [],
   "source": [
    "# 前處理，將資料變成 18 列、天數*24 欄\n",
    "def preprocess(data):\n",
    "    new_data = []\n",
    "    for i in range(18):\n",
    "        j = i\n",
    "        all_day = []\n",
    "        new_all_day = []\n",
    "        while j < len( data ):\n",
    "            # while 跑一圈代表一天的資料\n",
    "            one_day = []\n",
    "            # columns 0是 att (空汙名稱)\n",
    "            one_day = data.iloc[j, 1:].tolist()\n",
    "            # 將一列資料(一天的數據)存到one_day串列中，然後去掉空格、轉 float\n",
    "            for item in range( len(one_day) ):\n",
    "                if type(one_day[item]) == str:\n",
    "                    one_day[item] = float(one_day[item].strip())\n",
    "            # 處理完一天的數據，將串列存到 all_day\n",
    "            all_day.append(one_day)\n",
    "            j += 18\n",
    "        # 合併串列裡的多個串列成為一列，這樣一個空汙指標會有 1 * 1464 (24*61)\n",
    "        for q in range( len(all_day) ):\n",
    "            for w in all_day[q]:\n",
    "                new_all_day.append(w)\n",
    "        # 不用新串列去接的話，會一直往後，變成串列中只有一個元素，該元素裡有 1464*18 個資料\n",
    "        # 但變成 18 * 1464，之後轉 dataframe 才會是 18列 1464欄\n",
    "        new_data.append(new_all_day)\n",
    "    # 填補 nan\n",
    "    n_data = pd.DataFrame(new_data)\n",
    "    f_data = n_data.copy()\n",
    "    b_data = n_data.copy()\n",
    "    f_data = f_data.ffill(axis=1)\n",
    "    b_data = f_data.bfill(axis=1)\n",
    "    f_data.fillna(0.0)\n",
    "    b_data.fillna(0.0)\n",
    "    n_data = (f_data + b_data) / 2\n",
    "    print(n_data.shape)\n",
    "    return n_data"
   ]
  },
  {
   "cell_type": "code",
   "execution_count": 4,
   "id": "621a9b47",
   "metadata": {},
   "outputs": [
    {
     "name": "stdout",
     "output_type": "stream",
     "text": [
      "(18, 1464)\n",
      "(18, 744)\n"
     ]
    }
   ],
   "source": [
    "# 前處理後，生出要拿去模型訓練、預測的資料 X\n",
    "train_data = preprocess(train_data)\n",
    "test_data = preprocess(test_data)"
   ]
  },
  {
   "cell_type": "code",
   "execution_count": 5,
   "id": "1ce01a44",
   "metadata": {},
   "outputs": [],
   "source": [
    "# 生成要拿去模型訓練、預測的資料\n",
    "# 以單一指標(PM 2.5)去預測 1小時後、6小時後。index 9是 PM 2.5\n",
    "def forecast_one(data, hour):\n",
    "    X = []\n",
    "    Y = []\n",
    "    if hour == 1:\n",
    "        for k in range( len(data.columns)-6 ):\n",
    "            x_temp = data.iloc[9, k:k+6].tolist()\n",
    "            X.append(x_temp)\n",
    "            Y.append(data.iloc[9, k+6])\n",
    "    elif hour == 6:\n",
    "        for k in range( len(data.columns)-11 ):\n",
    "            x_temp = data.iloc[9, k:k+6].tolist()\n",
    "            X.append(x_temp)\n",
    "            Y.append(data.iloc[9, k+11])\n",
    "    else:\n",
    "        print('error')\n",
    "    \n",
    "    return X, Y\n",
    "\n",
    "# 以 18種指標去分別預測 1小時後、6小時後\n",
    "def forecast_all(data, hour):\n",
    "    X = []\n",
    "    Y = []\n",
    "    if hour == 1:\n",
    "        # 18種空汙指標，每種指標有 6筆資料 (6小時)\n",
    "        for i in range( len(data.columns)-6 ):\n",
    "            # 順序可以有 2種。18*6、6*18 (一次取一種指標的 6小時資料，再接下一個指標)\n",
    "            # 這邊是用後面那種\n",
    "            temp = []\n",
    "            one_row = []\n",
    "            for j in range( len(data.index) ):\n",
    "                x_temp = data.iloc[j, i:i+6].tolist()\n",
    "                temp.append(x_temp)\n",
    "            # 要把上面 for 產生的 18個元素(每個元素裡 6個資料)併成一列\n",
    "            for q in range( len(temp) ):\n",
    "                for w in range( len(temp[q]) ):\n",
    "                    one_row.append(temp[q][w])\n",
    "            X.append(one_row)\n",
    "            Y.append(data.iloc[9, i+6])\n",
    "    \n",
    "    elif hour == 6:\n",
    "        for i in range( len(data.columns)-11 ):\n",
    "            # 順序可以有 2種。18*6、6*18 (一次取一種指標的 6小時資料，再接下一個指標)\n",
    "            # 這邊是用後面那種\n",
    "            temp = []\n",
    "            one_row = []\n",
    "            for j in range( len(data.index) ):\n",
    "                x_temp = data.iloc[j, i:i+6].tolist()\n",
    "                temp.append(x_temp)\n",
    "            # 要把上面 for 產生的 18個元素(每個元素裡 6個資料)併成一列\n",
    "            for q in range( len(temp) ):\n",
    "                for w in range( len(temp[q]) ):\n",
    "                    one_row.append(temp[q][w])\n",
    "            X.append(one_row)\n",
    "            Y.append(data.iloc[9, i+11])\n",
    "    return X, Y"
   ]
  },
  {
   "attachments": {},
   "cell_type": "markdown",
   "id": "4144ab4e",
   "metadata": {},
   "source": [
    "<font size=5> Evaluation </font> <br/>\n",
    "<font size=3>\n",
    "    以 <font size=3 color=yellow> Linear Regression </font>\n",
    "    與 <font size=3 color=yellow> XGBoost </font>\n",
    "    兩種方法作為預測模型，並計算 MAE 作為最終結果\n",
    "</font>"
   ]
  },
  {
   "cell_type": "code",
   "execution_count": 7,
   "id": "6b79a50b",
   "metadata": {},
   "outputs": [],
   "source": [
    "from sklearn.linear_model import LinearRegression\n",
    "from sklearn.metrics import mean_absolute_error\n",
    "import xgboost as xgb\n",
    "\n",
    "def forecast_model(train_X, train_Y, test_X, test_Y):\n",
    "    # linear Regression\n",
    "    lm = LinearRegression()\n",
    "    lm.fit(train_X, train_Y)\n",
    "    mae_linear = mean_absolute_error(lm.predict(test_X), test_Y)\n",
    "    # XGBoost\n",
    "    xgm = xgb.XGBRegressor(n_estimators = 50)\n",
    "    xgm.fit(train_X, train_Y)\n",
    "    mae_xgb = mean_absolute_error(xgm.predict(test_X), test_Y)\n",
    "    \n",
    "    return mae_linear, mae_xgb"
   ]
  },
  {
   "cell_type": "code",
   "execution_count": 15,
   "id": "7b4d327a",
   "metadata": {},
   "outputs": [
    {
     "name": "stdout",
     "output_type": "stream",
     "text": [
      "以單一指標 PM 2.5 去預測\n",
      "future 1 hour MAE \n",
      "linear : 2.577 / xgb : 1.156\n",
      "future 6 hour MAE \n",
      "linear : 4.023 / xgb : 1.837\n"
     ]
    }
   ],
   "source": [
    "# PM 2.5去預測\n",
    "# 訓練資料的 X、Y\n",
    "train_X_f1, train_Y_f1 = forecast_one(train_data, 1)\n",
    "train_X_f6, train_Y_f6 = forecast_one(train_data, 6)\n",
    "# 測試資料的 X、Y\n",
    "test_X_f1, test_Y_f1 = forecast_one(train_data, 1)\n",
    "test_X_f6, test_Y_f6 = forecast_one(train_data, 6)\n",
    "\n",
    "print('以單一指標 PM 2.5 去預測')\n",
    "mae_linear_1, mae_xgb_1 = forecast_model(train_X_f1, train_Y_f1, test_X_f1, test_Y_f1)\n",
    "mae_linear_6, mae_xgb_6 = forecast_model(train_X_f6, train_Y_f6, test_X_f6, test_Y_f6)\n",
    "print('future 1 hour MAE ')\n",
    "print('linear :', round(mae_linear_1, 3), '/ xgb :', round(mae_xgb_1, 3))\n",
    "print('future 6 hour MAE ')\n",
    "print('linear :', round(mae_linear_6, 3), '/ xgb :', round(mae_xgb_6, 3))\n"
   ]
  },
  {
   "cell_type": "code",
   "execution_count": 16,
   "id": "48226e07",
   "metadata": {},
   "outputs": [
    {
     "name": "stdout",
     "output_type": "stream",
     "text": [
      "用所有指標(18個) 去預測\n",
      "future 1 hour MAE \n",
      "linear : 2.3 / xgb : 0.413\n",
      "future 6 hour MAE \n",
      "linear : 3.642 / xgb : 0.354\n"
     ]
    }
   ],
   "source": [
    "# 全部指標去預測\n",
    "# 訓練資料的 X、Y\n",
    "train_X_f1, train_Y_f1 = forecast_all(train_data, 1)\n",
    "train_X_f6, train_Y_f6 = forecast_all(train_data, 6)\n",
    "# 測試資料的 X、Y\n",
    "test_X_f1, test_Y_f1 = forecast_all(train_data, 1)\n",
    "test_X_f6, test_Y_f6 = forecast_all(train_data, 6)\n",
    "\n",
    "print('用所有指標(18個) 去預測')\n",
    "mae_linear_1, mae_xgb_1 = forecast_model(train_X_f1, train_Y_f1, test_X_f1, test_Y_f1)\n",
    "mae_linear_6, mae_xgb_6 = forecast_model(train_X_f6, train_Y_f6, test_X_f6, test_Y_f6)\n",
    "\n",
    "print('future 1 hour MAE ')\n",
    "print('linear :', round(mae_linear_1, 3), '/ xgb :', round(mae_xgb_1, 3))\n",
    "print('future 6 hour MAE ')\n",
    "print('linear :', round(mae_linear_6, 3), '/ xgb :', round(mae_xgb_6, 3))"
   ]
  },
  {
   "attachments": {},
   "cell_type": "markdown",
   "id": "efc94467",
   "metadata": {},
   "source": [
    "<font size=5> Result </font>"
   ]
  },
  {
   "cell_type": "code",
   "execution_count": 90,
   "id": "7299a4cb",
   "metadata": {},
   "outputs": [
    {
     "name": "stdout",
     "output_type": "stream",
     "text": [
      "           linear  XGBoost\n",
      "PM2.5, 1H   2.577    1.156\n",
      "PM2.5, 6H   4.023    1.837\n",
      "All, 1H     2.300    0.413\n",
      "All, 6H     3.642    0.354\n"
     ]
    }
   ],
   "source": [
    "# 統整結果\n",
    "lin = [l11, l16, l21, l26]\n",
    "xg = [x11, x16, x21, x26]\n",
    "a = pd.DataFrame({'linear':lin, 'XGBoost':xg})\n",
    "a.index = ['PM2.5, 1H', 'PM2.5, 6H', 'All, 1H', 'All, 6H']\n",
    "print(a)"
   ]
  }
 ],
 "metadata": {
  "kernelspec": {
   "display_name": "base",
   "language": "python",
   "name": "python3"
  },
  "language_info": {
   "codemirror_mode": {
    "name": "ipython",
    "version": 3
   },
   "file_extension": ".py",
   "mimetype": "text/x-python",
   "name": "python",
   "nbconvert_exporter": "python",
   "pygments_lexer": "ipython3",
   "version": "3.8.8"
  },
  "vscode": {
   "interpreter": {
    "hash": "f08154012ddadd8e950e6e9e035c7a7b32c136e7647e9b7c77e02eb723a8bedb"
   }
  }
 },
 "nbformat": 4,
 "nbformat_minor": 5
}
